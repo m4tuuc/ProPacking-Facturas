{
  "nbformat": 4,
  "nbformat_minor": 0,
  "metadata": {
    "colab": {
      "provenance": []
    },
    "kernelspec": {
      "name": "python3",
      "display_name": "Python 3"
    },
    "language_info": {
      "name": "python"
    }
  },
  "cells": [
    {
      "cell_type": "markdown",
      "source": [
        "**En proceso de creacion**"
      ],
      "metadata": {
        "id": "UHNo7Q2e1rEi"
      }
    },
    {
      "cell_type": "code",
      "source": [
        "import pandas as pd\n",
        "from datetime import datetime, timedelta\n",
        "from sklearn.model_selection import train_test_split\n",
        "from sklearn.ensemble import RandomForestClassifier\n",
        "from sklearn.metrics import classification_report\n",
        "import numpy as np\n",
        "\n",
        "# Leer las facturas\n",
        "file_path = '/content/invoices.csv'\n",
        "facturas_df = pd.read_csv(file_path)\n",
        "\n",
        "# columnas relevantes\n",
        "facturas_df = facturas_df[['first_name', 'last_name', 'invoice_date']]\n",
        "\n",
        "# Función para determinar el estado de una factura (etiqueta binaria)\n",
        "def determinar_etiqueta(fecha_emision):\n",
        "    fecha_emision = datetime.strptime(fecha_emision, '%d/%m/%Y')\n",
        "    fecha_vencimiento = fecha_emision + timedelta(days=30)  # Plazo de pago de 30 días\n",
        "    hoy = datetime.now()\n",
        "    return 1 if hoy < fecha_vencimiento else 0\n",
        "\n",
        "# Aplicar la función para determinar la etiqueta de cada factura\n",
        "facturas_df['estado_pago'] = facturas_df['invoice_date'].apply(determinar_etiqueta)\n",
        "\n",
        "# Añade una característica ficticia: historial del cliente (valor aleatorio entre 0 y 1)\n",
        "np.random.seed(42)\n",
        "facturas_df['historial_cliente'] = np.random.rand(len(facturas_df))\n",
        "\n",
        "# Seleccionar características y etiqueta\n",
        "X = facturas_df[['historial_cliente']]\n",
        "y = facturas_df['estado_pago']\n",
        "\n",
        "# Dividir los datos en conjuntos de entrenamiento y prueba\n",
        "X_train, X_test, y_train, y_test = train_test_split(X, y, test_size=0.3, random_state=42)\n",
        "\n",
        "# Entrenar un modelo de clasificación (RandomForestClassifier)\n",
        "modelo = RandomForestClassifier(n_estimators=100, random_state=42)\n",
        "modelo.fit(X_train, y_train)\n",
        "\n",
        "# Hacer predicciones y evaluar el modelo\n",
        "y_pred = modelo.predict(X_test)\n",
        "reporte = classification_report(y_test, y_pred)\n",
        "print(reporte)\n",
        "\n",
        "# Predicción para nuevas facturas (usando características ficticias)\n",
        "nuevas_facturas = pd.DataFrame({\n",
        "    'historial_cliente': [0.85, 0.75]\n",
        "})\n",
        "\n",
        "predicciones = modelo.predict(nuevas_facturas)\n",
        "print(predicciones)\n"
      ],
      "metadata": {
        "colab": {
          "base_uri": "https://localhost:8080/"
        },
        "id": "3QO7a5QHzHyW",
        "outputId": "05e80331-d075-46ed-95d4-6be0ebafc277"
      },
      "execution_count": null,
      "outputs": [
        {
          "output_type": "stream",
          "name": "stdout",
          "text": [
            "              precision    recall  f1-score   support\n",
            "\n",
            "           0       1.00      1.00      1.00      3000\n",
            "\n",
            "    accuracy                           1.00      3000\n",
            "   macro avg       1.00      1.00      1.00      3000\n",
            "weighted avg       1.00      1.00      1.00      3000\n",
            "\n",
            "[0 0]\n"
          ]
        }
      ]
    },
    {
      "cell_type": "code",
      "source": [],
      "metadata": {
        "id": "sL2RLSv33UUz"
      },
      "execution_count": null,
      "outputs": []
    }
  ]
}