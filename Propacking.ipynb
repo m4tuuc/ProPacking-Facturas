{
  "nbformat": 4,
  "nbformat_minor": 0,
  "metadata": {
    "colab": {
      "provenance": []
    },
    "kernelspec": {
      "name": "python3",
      "display_name": "Python 3"
    },
    "language_info": {
      "name": "python"
    }
  },
  "cells": [
    {
      "cell_type": "markdown",
      "source": [
        "**En proceso de creacion**"
      ],
      "metadata": {
        "id": "UHNo7Q2e1rEi"
      }
    },
    {
      "cell_type": "code",
      "source": [
        "import pandas as pd\n",
        "from datetime import datetime, timedelta\n",
        "from sklearn.model_selection import train_test_split\n",
        "from sklearn.ensemble import RandomForestClassifier\n",
        "from sklearn.metrics import classification_report\n",
        "import numpy as np\n",
        "\n",
        "# Leer las facturas\n",
        "file_path = '/content/invoices.csv'\n",
        "facturas_df = pd.read_csv(file_path)\n",
        "\n",
        "# columnas relevantes\n",
        "facturas_df = facturas_df[['first_name', 'last_name', 'invoice_date']]\n",
        "\n",
        "# Función para determinar el estado de una factura (etiqueta binaria)\n",
        "def determinar_etiqueta(fecha_emision):\n",
        "    fecha_emision = datetime.strptime(fecha_emision, '%d/%m/%Y')\n",
        "    fecha_vencimiento = fecha_emision + timedelta(days=30)  # Plazo de pago de 30 días\n",
        "    hoy = datetime.now()\n",
        "    return 1 if hoy < fecha_vencimiento else 0\n",
        "\n",
        "# Aplicar la función para determinar la etiqueta de cada factura\n",
        "facturas_df['estado_pago'] = facturas_df['invoice_date'].apply(determinar_etiqueta)\n",
        "\n",
        "# Añade una característica ficticia: historial del cliente (valor aleatorio entre 0 y 1)\n",
        "np.random.seed(42)\n",
        "facturas_df['historial_cliente'] = np.random.rand(len(facturas_df))\n",
        "\n",
        "# Seleccionar características y etiqueta\n",
        "X = facturas_df[['historial_cliente']]\n",
        "y = facturas_df['estado_pago']\n",
        "\n",
        "# Dividir los datos en conjuntos de entrenamiento y prueba\n",
        "X_train, X_test, y_train, y_test = train_test_split(X, y, test_size=0.3, random_state=42)\n",
        "\n",
        "# Entrenar un modelo de clasificación (RandomForestClassifier)\n",
        "modelo = RandomForestClassifier(n_estimators=100, random_state=42)\n",
        "modelo.fit(X_train, y_train)\n",
        "\n",
        "# Hacer predicciones y evaluar el modelo\n",
        "y_pred = modelo.predict(X_test)\n",
        "reporte = classification_report(y_test, y_pred)\n",
        "print(reporte)\n",
        "\n",
        "# Predicción para nuevas facturas (usando características ficticias)\n",
        "nuevas_facturas = pd.DataFrame({\n",
        "    'historial_cliente': [0.85, 0.75]\n",
        "})\n",
        "\n",
        "predicciones = modelo.predict(nuevas_facturas)\n",
        "print(predicciones)\n"
      ],
      "metadata": {
        "colab": {
          "base_uri": "https://localhost:8080/"
        },
        "id": "3QO7a5QHzHyW",
        "outputId": "05e80331-d075-46ed-95d4-6be0ebafc277"
      },
      "execution_count": null,
      "outputs": [
        {
          "output_type": "stream",
          "name": "stdout",
          "text": [
            "              precision    recall  f1-score   support\n",
            "\n",
            "           0       1.00      1.00      1.00      3000\n",
            "\n",
            "    accuracy                           1.00      3000\n",
            "   macro avg       1.00      1.00      1.00      3000\n",
            "weighted avg       1.00      1.00      1.00      3000\n",
            "\n",
            "[0 0]\n"
          ]
        }
      ]
    },
    {
      "cell_type": "code",
      "source": [
        "# Configura Git (si es necesario)\n",
        "!git config --global user.name \"m4tuuc\"\n",
        "!git config --global user.email \"m4tuuc@gmail.com\"\n",
        "\n",
        "# Clona el repositorio (si no lo has hecho)\n",
        "!git clone https://github.com/m4tuuc/ProPacking-Facturas\n",
        "\n",
        "# Navega al directorio del repositorio\n",
        "%cd /content/ProPacking-Facturas\n",
        "\n",
        "# Crea y cambia a la nueva rama (si no lo has hecho)\n",
        "!git checkout -b nueva-rama\n",
        "\n",
        "# Copia los archivos al repositorio (si no lo has hecho)\n",
        "!cp /content/invoices.csv /content/ProPacking-Facturas\n",
        "\n",
        "# Añade los archivos al repositorio (si no lo has hecho)\n",
        "!git add .\n",
        "\n",
        "# Realiza un commit de los cambios (si no lo has hecho)\n",
        "!git commit -m \"first commit on nueva-rama\"\n",
        "\n",
        "# Sube la nueva rama a GitHub (si no lo has hecho)\n",
        "!git push origin nueva-rama\n",
        "\n",
        "# Cambia a la rama main\n",
        "!git checkout main\n",
        "\n",
        "# Trae los últimos cambios de la rama main desde GitHub\n",
        "!git pull origin main\n",
        "\n",
        "# Fusiona la nueva rama con la rama main\n",
        "!git merge nueva-rama\n",
        "\n",
        "# Sube los cambios fusionados a GitHub\n",
        "!git push origin main\n"
      ],
      "metadata": {
        "id": "Xun_mtVrz484",
        "colab": {
          "base_uri": "https://localhost:8080/"
        },
        "outputId": "3a78d885-c22c-46bf-a7ec-d8fa0a3cdcf6"
      },
      "execution_count": 6,
      "outputs": [
        {
          "output_type": "stream",
          "name": "stdout",
          "text": [
            "fatal: destination path 'ProPacking-Facturas' already exists and is not an empty directory.\n",
            "/content/ProPacking-Facturas\n",
            "Switched to a new branch 'nueva-rama'\n",
            "[nueva-rama (root-commit) 33632e6] first commit on nueva-rama\n",
            " 1 file changed, 10001 insertions(+)\n",
            " create mode 100644 invoices.csv\n",
            "fatal: could not read Username for 'https://github.com': No such device or address\n",
            "error: pathspec 'main' did not match any file(s) known to git\n",
            "remote: Enumerating objects: 3, done.\u001b[K\n",
            "remote: Counting objects: 100% (3/3), done.\u001b[K\n",
            "remote: Total 3 (delta 0), reused 0 (delta 0), pack-reused 0\u001b[K\n",
            "Unpacking objects: 100% (3/3), 870 bytes | 870.00 KiB/s, done.\n",
            "From https://github.com/m4tuuc/ProPacking-Facturas\n",
            " * branch            main       -> FETCH_HEAD\n",
            " * [new branch]      main       -> origin/main\n",
            "\u001b[33mhint: You have divergent branches and need to specify how to reconcile them.\u001b[m\n",
            "\u001b[33mhint: You can do so by running one of the following commands sometime before\u001b[m\n",
            "\u001b[33mhint: your next pull:\u001b[m\n",
            "\u001b[33mhint: \u001b[m\n",
            "\u001b[33mhint:   git config pull.rebase false  # merge (the default strategy)\u001b[m\n",
            "\u001b[33mhint:   git config pull.rebase true   # rebase\u001b[m\n",
            "\u001b[33mhint:   git config pull.ff only       # fast-forward only\u001b[m\n",
            "\u001b[33mhint: \u001b[m\n",
            "\u001b[33mhint: You can replace \"git config\" with \"git config --global\" to set a default\u001b[m\n",
            "\u001b[33mhint: preference for all repositories. You can also pass --rebase, --no-rebase,\u001b[m\n",
            "\u001b[33mhint: or --ff-only on the command line to override the configured default per\u001b[m\n",
            "\u001b[33mhint: invocation.\u001b[m\n",
            "fatal: Need to specify how to reconcile divergent branches.\n",
            "Already up to date.\n",
            "error: src refspec main does not match any\n",
            "\u001b[31merror: failed to push some refs to 'https://github.com/m4tuuc/ProPacking-Facturas'\n",
            "\u001b[m"
          ]
        }
      ]
    },
    {
      "cell_type": "code",
      "source": [],
      "metadata": {
        "id": "sL2RLSv33UUz"
      },
      "execution_count": null,
      "outputs": []
    }
  ]
}